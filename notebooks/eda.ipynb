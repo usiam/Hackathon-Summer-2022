{
 "cells": [
  {
   "cell_type": "markdown",
   "metadata": {},
   "source": [
    "# NOTES: \n",
    "\n",
    "FROM PAPER -> For each hybrid, we tested whether the number of variants in these regions predicts significant ASE levels or ASE dynamics using logistic regression."
   ]
  },
  {
   "cell_type": "code",
   "execution_count": 39,
   "metadata": {},
   "outputs": [],
   "source": [
    "import numpy as np\n",
    "import pandas as pd\n",
    "import seaborn as sns\n",
    "import matplotlib.pyplot as plt\n",
    "\n",
    "plt.style.use('dark_background')"
   ]
  },
  {
   "cell_type": "code",
   "execution_count": 40,
   "metadata": {},
   "outputs": [
    {
     "data": {
      "text/html": [
       "<div>\n",
       "<style scoped>\n",
       "    .dataframe tbody tr th:only-of-type {\n",
       "        vertical-align: middle;\n",
       "    }\n",
       "\n",
       "    .dataframe tbody tr th {\n",
       "        vertical-align: top;\n",
       "    }\n",
       "\n",
       "    .dataframe thead th {\n",
       "        text-align: right;\n",
       "    }\n",
       "</style>\n",
       "<table border=\"1\" class=\"dataframe\">\n",
       "  <thead>\n",
       "    <tr style=\"text-align: right;\">\n",
       "      <th></th>\n",
       "      <th>SGD</th>\n",
       "      <th>DIFF</th>\n",
       "      <th>gene</th>\n",
       "      <th>type</th>\n",
       "      <th>chromosome</th>\n",
       "      <th>strand</th>\n",
       "      <th>start</th>\n",
       "      <th>end</th>\n",
       "      <th>num_exon</th>\n",
       "      <th>len_exon</th>\n",
       "      <th>...</th>\n",
       "      <th>YJF153_geno_SNPs_gene</th>\n",
       "      <th>BC217_geno_SNPs_gene</th>\n",
       "      <th>dist_SNPs_gene</th>\n",
       "      <th>num_MIXED_gene</th>\n",
       "      <th>YJF153_geno_MIXED_gene</th>\n",
       "      <th>BC217_geno_MIXED_gene</th>\n",
       "      <th>dist_MIXED_gene</th>\n",
       "      <th>diff_len_g</th>\n",
       "      <th>diff_len_p</th>\n",
       "      <th>diff_len_end</th>\n",
       "    </tr>\n",
       "  </thead>\n",
       "  <tbody>\n",
       "    <tr>\n",
       "      <th>0</th>\n",
       "      <td>YAL009W</td>\n",
       "      <td>0.268376</td>\n",
       "      <td>SPO7</td>\n",
       "      <td>CDS</td>\n",
       "      <td>chr1</td>\n",
       "      <td>0</td>\n",
       "      <td>135854</td>\n",
       "      <td>136633</td>\n",
       "      <td>1</td>\n",
       "      <td>780</td>\n",
       "      <td>...</td>\n",
       "      <td>G:A:C:C</td>\n",
       "      <td>A:G:G:T</td>\n",
       "      <td>188:204:300:342</td>\n",
       "      <td>0</td>\n",
       "      <td>NaN</td>\n",
       "      <td>NaN</td>\n",
       "      <td>NaN</td>\n",
       "      <td>0</td>\n",
       "      <td>0</td>\n",
       "      <td>0</td>\n",
       "    </tr>\n",
       "    <tr>\n",
       "      <th>1</th>\n",
       "      <td>YAL010C</td>\n",
       "      <td>0.122422</td>\n",
       "      <td>MDM10</td>\n",
       "      <td>CDS</td>\n",
       "      <td>chr1</td>\n",
       "      <td>1</td>\n",
       "      <td>134184</td>\n",
       "      <td>135665</td>\n",
       "      <td>1</td>\n",
       "      <td>1482</td>\n",
       "      <td>...</td>\n",
       "      <td>A:C:G:G:G:C</td>\n",
       "      <td>G:T:A:A:A:T</td>\n",
       "      <td>1476:1447:1079:1027:1005:485</td>\n",
       "      <td>0</td>\n",
       "      <td>NaN</td>\n",
       "      <td>NaN</td>\n",
       "      <td>NaN</td>\n",
       "      <td>0</td>\n",
       "      <td>0</td>\n",
       "      <td>0</td>\n",
       "    </tr>\n",
       "    <tr>\n",
       "      <th>2</th>\n",
       "      <td>YAL011W</td>\n",
       "      <td>0.654187</td>\n",
       "      <td>SWC3</td>\n",
       "      <td>CDS</td>\n",
       "      <td>chr1</td>\n",
       "      <td>0</td>\n",
       "      <td>132199</td>\n",
       "      <td>134076</td>\n",
       "      <td>1</td>\n",
       "      <td>1878</td>\n",
       "      <td>...</td>\n",
       "      <td>A:T:A:G:A:A:C:G:G:C:C:T:T:G:G:G:G</td>\n",
       "      <td>G:C:G:A:G:G:T:A:A:T:T:C:C:C:A:A:A</td>\n",
       "      <td>225:324:420:525:633:882:936:976:1000:1148:1149...</td>\n",
       "      <td>0</td>\n",
       "      <td>NaN</td>\n",
       "      <td>NaN</td>\n",
       "      <td>NaN</td>\n",
       "      <td>0</td>\n",
       "      <td>0</td>\n",
       "      <td>0</td>\n",
       "    </tr>\n",
       "    <tr>\n",
       "      <th>3</th>\n",
       "      <td>YAL012W</td>\n",
       "      <td>3.445166</td>\n",
       "      <td>CYS3</td>\n",
       "      <td>CDS</td>\n",
       "      <td>chr1</td>\n",
       "      <td>0</td>\n",
       "      <td>130799</td>\n",
       "      <td>131983</td>\n",
       "      <td>1</td>\n",
       "      <td>1185</td>\n",
       "      <td>...</td>\n",
       "      <td>C:G:T:C</td>\n",
       "      <td>T:A:C:T</td>\n",
       "      <td>120:177:786:1182</td>\n",
       "      <td>0</td>\n",
       "      <td>NaN</td>\n",
       "      <td>NaN</td>\n",
       "      <td>NaN</td>\n",
       "      <td>0</td>\n",
       "      <td>0</td>\n",
       "      <td>0</td>\n",
       "    </tr>\n",
       "    <tr>\n",
       "      <th>4</th>\n",
       "      <td>YAL013W</td>\n",
       "      <td>0.592709</td>\n",
       "      <td>DEP1</td>\n",
       "      <td>CDS</td>\n",
       "      <td>chr1</td>\n",
       "      <td>0</td>\n",
       "      <td>129270</td>\n",
       "      <td>130487</td>\n",
       "      <td>1</td>\n",
       "      <td>1218</td>\n",
       "      <td>...</td>\n",
       "      <td>C:T:C:C:C:C</td>\n",
       "      <td>T:C:T:T:T:T</td>\n",
       "      <td>360:387:462:1002:1023:1093</td>\n",
       "      <td>0</td>\n",
       "      <td>NaN</td>\n",
       "      <td>NaN</td>\n",
       "      <td>NaN</td>\n",
       "      <td>0</td>\n",
       "      <td>0</td>\n",
       "      <td>0</td>\n",
       "    </tr>\n",
       "  </tbody>\n",
       "</table>\n",
       "<p>5 rows × 81 columns</p>\n",
       "</div>"
      ],
      "text/plain": [
       "       SGD      DIFF   gene type chromosome  strand   start     end  num_exon  \\\n",
       "0  YAL009W  0.268376   SPO7  CDS       chr1       0  135854  136633         1   \n",
       "1  YAL010C  0.122422  MDM10  CDS       chr1       1  134184  135665         1   \n",
       "2  YAL011W  0.654187   SWC3  CDS       chr1       0  132199  134076         1   \n",
       "3  YAL012W  3.445166   CYS3  CDS       chr1       0  130799  131983         1   \n",
       "4  YAL013W  0.592709   DEP1  CDS       chr1       0  129270  130487         1   \n",
       "\n",
       "   len_exon  ...              YJF153_geno_SNPs_gene  \\\n",
       "0       780  ...                            G:A:C:C   \n",
       "1      1482  ...                        A:C:G:G:G:C   \n",
       "2      1878  ...  A:T:A:G:A:A:C:G:G:C:C:T:T:G:G:G:G   \n",
       "3      1185  ...                            C:G:T:C   \n",
       "4      1218  ...                        C:T:C:C:C:C   \n",
       "\n",
       "                BC217_geno_SNPs_gene  \\\n",
       "0                            A:G:G:T   \n",
       "1                        G:T:A:A:A:T   \n",
       "2  G:C:G:A:G:G:T:A:A:T:T:C:C:C:A:A:A   \n",
       "3                            T:A:C:T   \n",
       "4                        T:C:T:T:T:T   \n",
       "\n",
       "                                      dist_SNPs_gene num_MIXED_gene  \\\n",
       "0                                    188:204:300:342              0   \n",
       "1                       1476:1447:1079:1027:1005:485              0   \n",
       "2  225:324:420:525:633:882:936:976:1000:1148:1149...              0   \n",
       "3                                   120:177:786:1182              0   \n",
       "4                         360:387:462:1002:1023:1093              0   \n",
       "\n",
       "   YJF153_geno_MIXED_gene  BC217_geno_MIXED_gene dist_MIXED_gene  diff_len_g  \\\n",
       "0                     NaN                    NaN             NaN           0   \n",
       "1                     NaN                    NaN             NaN           0   \n",
       "2                     NaN                    NaN             NaN           0   \n",
       "3                     NaN                    NaN             NaN           0   \n",
       "4                     NaN                    NaN             NaN           0   \n",
       "\n",
       "   diff_len_p  diff_len_end  \n",
       "0           0             0  \n",
       "1           0             0  \n",
       "2           0             0  \n",
       "3           0             0  \n",
       "4           0             0  \n",
       "\n",
       "[5 rows x 81 columns]"
      ]
     },
     "execution_count": 40,
     "metadata": {},
     "output_type": "execute_result"
    }
   ],
   "source": [
    "features = pd.read_csv('../train_data/features_train.tsv', sep='\\t')\n",
    "features.head()"
   ]
  },
  {
   "cell_type": "code",
   "execution_count": 41,
   "metadata": {},
   "outputs": [
    {
     "data": {
      "text/plain": [
       "0           NaN\n",
       "1           NaN\n",
       "2           T:A\n",
       "3       C:G:A:C\n",
       "4         T:G:C\n",
       "         ...   \n",
       "2788        NaN\n",
       "2789      A:C:G\n",
       "2790      G:T:T\n",
       "2791      G:T:T\n",
       "2792      G:T:A\n",
       "Name: YJF153_geno_SNP_promoter, Length: 2793, dtype: object"
      ]
     },
     "execution_count": 41,
     "metadata": {},
     "output_type": "execute_result"
    }
   ],
   "source": [
    "features[\"YJF153_geno_SNP_promoter\"]\n"
   ]
  },
  {
   "cell_type": "code",
   "execution_count": 42,
   "metadata": {},
   "outputs": [
    {
     "data": {
      "text/plain": [
       "Index(['SGD', 'DIFF', 'gene', 'type', 'chromosome', 'strand', 'start', 'end',\n",
       "       'num_exon', 'len_exon', 'pos_exon', 'num_intron', 'len_intron',\n",
       "       'pos_intron', 'num_5UTRintron', 'len_5UTRintron', 'pos_5UTRintron',\n",
       "       'start_promoter', 'end_promoter', 'overlap_promoter', 'len_promoter',\n",
       "       'start_3end', 'end_3end', 'overlap_3end', 'promoter_ARS',\n",
       "       'promoter_CEN', 'promoter_LTR', 'promoter_long_terminal_repeat',\n",
       "       'promoter_pseudogene', 'promoter_telomere', 'promoter_telomeric_repeat',\n",
       "       'promoter_transposable_element_gene', 'end_ARS', 'end_CEN', 'end_LTR',\n",
       "       'end_long_terminal_repeat', 'end_pseudogene', 'end_telomere',\n",
       "       'end_telomeric_repeat', 'end_transposable_element_gene', 'gene_ARS',\n",
       "       'gene_CEN', 'gene_LTR', 'gene_long_terminal_repeat', 'gene_pseudogene',\n",
       "       'gene_telomere', 'gene_telomeric_repeat',\n",
       "       'gene_transposable_element_gene', 'num_SNPs_promoter',\n",
       "       'num_MIXED_promoter', 'frac_SNP_promoter', 'frac_MIXED_promoter',\n",
       "       'YJF153_geno_SNP_promoter', 'BC217_geno_SNP_promoter',\n",
       "       'YJF153_geno_MIXED_promoter', 'BC217_geno_MIXED_promoter',\n",
       "       'dist_SNP_promoter', 'dist_MIXED_promoter', 'num_SNPs_3end',\n",
       "       'num_MIXED_3end', 'YJF153_geno_SNP_3end', 'BC217_geno_SNP_3end',\n",
       "       'YJF153_geno_MIXED_3end', 'BC217_geno_MIXED_3end',\n",
       "       'YJF153_promoter_ave_coverage', 'YJF153_3end_ave_coverage',\n",
       "       'BC217_promoter_ave_coverage', 'BC217_3end_ave_coverage',\n",
       "       'BC217_MQ_gene', 'YJF153_MQ_gene', 'num_SNPs_gene',\n",
       "       'YJF153_geno_SNPs_gene', 'BC217_geno_SNPs_gene', 'dist_SNPs_gene',\n",
       "       'num_MIXED_gene', 'YJF153_geno_MIXED_gene', 'BC217_geno_MIXED_gene',\n",
       "       'dist_MIXED_gene', 'diff_len_g', 'diff_len_p', 'diff_len_end'],\n",
       "      dtype='object')"
      ]
     },
     "execution_count": 42,
     "metadata": {},
     "output_type": "execute_result"
    }
   ],
   "source": [
    "features.columns"
   ]
  },
  {
   "cell_type": "code",
   "execution_count": 43,
   "metadata": {},
   "outputs": [],
   "source": [
    "tfbs_bc = pd.read_csv('../train_data/tfbs_score_BC217_train.tsv', sep='\\t')\n",
    "tfbs_yj = pd.read_csv('../train_data/tfbs_score_YJF153_train.tsv', sep='\\t')\n"
   ]
  },
  {
   "cell_type": "code",
   "execution_count": 44,
   "metadata": {},
   "outputs": [
    {
     "data": {
      "text/plain": [
       "(2793, 5663)"
      ]
     },
     "execution_count": 44,
     "metadata": {},
     "output_type": "execute_result"
    }
   ],
   "source": [
    "tfbs_bc.head() # wtf are these\n",
    "tfbs_bc.shape"
   ]
  },
  {
   "cell_type": "code",
   "execution_count": 45,
   "metadata": {},
   "outputs": [
    {
     "data": {
      "text/plain": [
       "(2793, 5663)"
      ]
     },
     "execution_count": 45,
     "metadata": {},
     "output_type": "execute_result"
    }
   ],
   "source": [
    "tfbs_yj.head()  # wtf are these\n",
    "tfbs_yj.shape\n"
   ]
  },
  {
   "cell_type": "code",
   "execution_count": 46,
   "metadata": {},
   "outputs": [
    {
     "data": {
      "text/plain": [
       "RangeIndex(start=0, stop=2793, step=1)"
      ]
     },
     "execution_count": 46,
     "metadata": {},
     "output_type": "execute_result"
    }
   ],
   "source": [
    "features.index"
   ]
  }
 ],
 "metadata": {
  "interpreter": {
   "hash": "1d9d410732751102db5fa9aa00b51dcf0d802da2b5c6a58fcbaf31af5623cefa"
  },
  "kernelspec": {
   "display_name": "Python 3.10.4 64-bit ('data_science': conda)",
   "language": "python",
   "name": "python3"
  },
  "language_info": {
   "codemirror_mode": {
    "name": "ipython",
    "version": 3
   },
   "file_extension": ".py",
   "mimetype": "text/x-python",
   "name": "python",
   "nbconvert_exporter": "python",
   "pygments_lexer": "ipython3",
   "version": "3.10.4"
  },
  "orig_nbformat": 4
 },
 "nbformat": 4,
 "nbformat_minor": 2
}
